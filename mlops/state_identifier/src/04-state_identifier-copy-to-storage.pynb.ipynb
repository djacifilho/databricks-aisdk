{
 "cells": [
  {
   "cell_type": "code",
   "execution_count": 0,
   "metadata": {
    "application/vnd.databricks.v1+cell": {
     "cellMetadata": {
      "byteLimit": 2048000,
      "rowLimit": 10000
     },
     "inputWidgets": {},
     "nuid": "7b5c459e-895a-4b93-9392-bf0c65bf03c1",
     "showTitle": false,
     "tableResultSettingsMap": {},
     "title": ""
    }
   },
   "outputs": [],
   "source": [
    "import shutil\n",
    "import os\n",
    "import glob\n",
    "from datetime import datetime, timedelta, timezone\n",
    "\n",
    "import mlflow\n",
    "from mlflow.tracking import MlflowClient\n",
    "from azure.storage.blob import BlobServiceClient, generate_blob_sas, BlobSasPermissions\n",
    "from azure.identity import ClientSecretCredential\n",
    "\n",
    "class AzureConfig:\n",
    "\n",
    "    def get_secret(self, key):\n",
    "        return dbutils.secrets.get(scope=\"kv-databricks-learn\", key=key)\n",
    "    \n",
    "    def __init__(self):\n",
    "        self.storage_account = self.get_secret(\"storageaccount\")\n",
    "        self.azure_blob_container = self.get_secret(\"azureblobcontainer\")\n",
    "        self.models_folder = \"models\"\n",
    "        self.application_id = self.get_secret(\"applicationid\")\n",
    "        self.directory_id = self.get_secret(\"directoryid\")\n",
    "        self.service_credential = self.get_secret(\"servicecredential\")\n",
    "\n",
    "\n",
    "def export_model_to_storage(model_name: str, model_version: str, config: AzureConfig):\n",
    "\n",
    "    print('Getting storage credentials ...')\n",
    "\n",
    "    blob_name = f\"{config.models_folder}/{model_name}_{model_version}.zip\"\n",
    "\n",
    "    # --- AUTH (already configured in your message) ---\n",
    "\n",
    "    spark.conf.set(f\"fs.azure.account.auth.type.{config.storage_account}.dfs.core.windows.net\", \"OAuth\")\n",
    "    spark.conf.set(f\"fs.azure.account.oauth.provider.type.{config.storage_account}.dfs.core.windows.net\", \"org.apache.hadoop.fs.azurebfs.oauth2.ClientCredsTokenProvider\")\n",
    "    spark.conf.set(f\"fs.azure.account.oauth2.client.id.{config.storage_account}.dfs.core.windows.net\", config.application_id)\n",
    "    spark.conf.set(f\"fs.azure.account.oauth2.client.secret.{config.storage_account}.dfs.core.windows.net\", config.service_credential)\n",
    "    spark.conf.set(f\"fs.azure.account.oauth2.client.endpoint.{config.storage_account}.dfs.core.windows.net\", f\"https://login.microsoftonline.com/{config.directory_id}/oauth2/token\")\n",
    "\n",
    "    client = MlflowClient(registry_uri=\"databricks\")\n",
    "\n",
    "    # --- DOWNLOAD MODEL FROM REGISTRY ---\n",
    "    model_uri = f\"models:/{model_name}/{model_version}\"\n",
    "    local_dir = 'model'\n",
    "    os.makedirs(local_dir, exist_ok=True)\n",
    "    mv = client.get_model_version(name=model_name, version=model_version)\n",
    "\n",
    "    print(f\"Downloading model from {model_uri}...\")\n",
    "    local_path = client.download_artifacts(run_id=mv.run_id, path=local_dir)\n",
    "\n",
    "\n",
    "    artifact = f'{local_path}/artifacts'\n",
    "    zip_path = f'{artifact}/{model_name}_{model_version}.zip'\n",
    "\n",
    "    # print(\"Listing files in\", artifact)\n",
    "    # for file in glob.glob(f\"{artifact}/**\", recursive=True):\n",
    "    #     print(file)\n",
    "\n",
    "    print('zip_path', zip_path)\n",
    "\n",
    "\n",
    "    # --- UPLOAD TO AZURE STORAGE ---\n",
    "    print('Uploading to Azure Storage')\n",
    "\n",
    "    target_blob_file = f\"abfss://{config.azure_blob_container}@{config.storage_account}.dfs.core.windows.net/{blob_name}\"\n",
    "    print(f\"Uploading to {target_blob_file}...\")\n",
    "\n",
    "    dbutils.fs.cp(f\"file:{zip_path}\", target_blob_file)\n",
    "\n",
    "    print('UPLOADED')\n",
    "\n",
    "    return blob_name\n",
    "\n",
    "azure_config = AzureConfig()\n",
    "\n",
    "model_name = \"aisdk_model_state_identifier-edge\"\n",
    "model_version = 1\n",
    "\n",
    "blob_name = export_model_to_storage(model_name, model_version, azure_config)\n",
    "    \n"
   ]
  },
  {
   "cell_type": "code",
   "execution_count": 0,
   "metadata": {
    "application/vnd.databricks.v1+cell": {
     "cellMetadata": {
      "byteLimit": 2048000,
      "rowLimit": 10000
     },
     "inputWidgets": {},
     "nuid": "7c3893a5-b3bb-45f2-8846-435ede968a50",
     "showTitle": false,
     "tableResultSettingsMap": {},
     "title": ""
    }
   },
   "outputs": [],
   "source": [
    "\n",
    "def generate_sas_token(blob_name: str, config: AzureConfig):\n",
    "\n",
    "    credential = ClientSecretCredential(config.directory_id, config.application_id, config.service_credential)\n",
    "    account_url=f\"https://{config.storage_account}.blob.core.windows.net\"\n",
    "\n",
    "    blob_service_client = BlobServiceClient(\n",
    "        account_url=account_url,\n",
    "        credential=credential\n",
    "    )\n",
    "\n",
    "    # get a user delegation key\n",
    "    udk = blob_service_client.get_user_delegation_key(\n",
    "        key_start_time=datetime.now(timezone.utc),\n",
    "        key_expiry_time=datetime.now(timezone.utc) + timedelta(hours=1)\n",
    "    )\n",
    "\n",
    "    # generate SAS\n",
    "    sas_token = generate_blob_sas(\n",
    "        account_name=config.storage_account,\n",
    "        container_name=config.azure_blob_container,\n",
    "        blob_name=blob_name,\n",
    "        user_delegation_key=udk,\n",
    "        permission=BlobSasPermissions(read=True, list=True),\n",
    "        expiry=datetime.now(timezone.utc) + timedelta(hours=1)\n",
    "    )\n",
    "\n",
    "    sas_url = f\"{account_url}/{config.azure_blob_container}/{blob_name}?{sas_token}\"\n",
    "    print(\"✅ SAS URL:\", sas_url)\n",
    "\n",
    "    return sas_url\n",
    "\n",
    "generate_sas_token(blob_name, azure_config)"
   ]
  }
 ],
 "metadata": {
  "application/vnd.databricks.v1+notebook": {
   "computePreferences": null,
   "dashboards": [],
   "environmentMetadata": {
    "base_environment": "",
    "environment_version": "3"
   },
   "inputWidgetPreferences": null,
   "language": "python",
   "notebookMetadata": {
    "pythonIndentUnit": 4
   },
   "notebookName": "04-state_identifier-copy-to-storage.pynb",
   "widgets": {}
  },
  "language_info": {
   "name": "python"
  }
 },
 "nbformat": 4,
 "nbformat_minor": 0
}
