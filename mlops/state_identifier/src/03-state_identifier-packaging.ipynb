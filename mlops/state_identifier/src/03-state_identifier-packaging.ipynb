{
 "cells": [
  {
   "cell_type": "code",
   "execution_count": 0,
   "metadata": {
    "application/vnd.databricks.v1+cell": {
     "cellMetadata": {
      "byteLimit": 2048000,
      "rowLimit": 10000
     },
     "inputWidgets": {},
     "nuid": "a6d431f3-7385-44a6-b229-ff312727622c",
     "showTitle": false,
     "tableResultSettingsMap": {},
     "title": ""
    }
   },
   "outputs": [],
   "source": [
    "# dbutils.library.restartPython()\n",
    "\n",
    "# import sys\n",
    "# print(sys.version)"
   ]
  },
  {
   "cell_type": "code",
   "execution_count": 0,
   "metadata": {
    "application/vnd.databricks.v1+cell": {
     "cellMetadata": {
      "byteLimit": 2048000,
      "rowLimit": 10000
     },
     "inputWidgets": {},
     "nuid": "b0c07db0-e67d-4dbf-ae36-eb9ec00557a4",
     "showTitle": false,
     "tableResultSettingsMap": {},
     "title": ""
    }
   },
   "outputs": [],
   "source": [
    "# import shutil\n",
    "# shutil.rmtree('/local_disk0/repl_tmp_data')"
   ]
  },
  {
   "cell_type": "code",
   "execution_count": 0,
   "metadata": {
    "application/vnd.databricks.v1+cell": {
     "cellMetadata": {
      "byteLimit": 2048000,
      "rowLimit": 10000
     },
     "inputWidgets": {},
     "nuid": "7340766a-eec8-424d-8ec1-bfc28ff79677",
     "showTitle": false,
     "tableResultSettingsMap": {},
     "title": ""
    }
   },
   "outputs": [],
   "source": [
    "import mlflow\n",
    "from mlflow.models import Model\n",
    "from mlflow.tracking import MlflowClient\n",
    "\n",
    "client = MlflowClient(registry_uri=\"databricks\")\n",
    "\n",
    "name = 'aisdk_model_state_identifier'\n",
    "\n",
    "versions = client.search_model_versions(f\"name='{name}'\")\n",
    "latest_version = max(versions, key=lambda v: int(v.version))\n",
    "assert latest_version, f\"No versions found for model {name}\"\n",
    "mv = latest_version\n",
    "\n",
    "\n",
    "model_uri = f\"models:/{name}/{latest_version.version}\"\n",
    "model_info = Model.load(model_uri)\n",
    "signature = model_info.signature\n",
    "print(f\"Model signature: {signature}\")\n",
    "\n",
    "model_folder = client.download_artifacts(run_id=mv.run_id, path=\"model\")  # no dst_path\n",
    "print(\"Downloaded to:\", model_folder)\n",
    "\n",
    "print(mv)\n",
    "version = str(mv.version)\n",
    "print(f'version: {version}')"
   ]
  },
  {
   "cell_type": "code",
   "execution_count": 0,
   "metadata": {
    "application/vnd.databricks.v1+cell": {
     "cellMetadata": {
      "byteLimit": 2048000,
      "rowLimit": 10000
     },
     "inputWidgets": {},
     "nuid": "2a943c88-fc57-42ce-a1b2-cf090402cbc7",
     "showTitle": false,
     "tableResultSettingsMap": {},
     "title": ""
    }
   },
   "outputs": [],
   "source": [
    "# import os\n",
    "# from pathlib import Path\n",
    "\n",
    "# # print(f'model_folder: {model_folder}')\n",
    "\n",
    "# def list_files(directory):\n",
    "#     for root, dirs, files in os.walk(directory):\n",
    "#         for name in files:\n",
    "#             print(os.path.join(root, name))\n",
    "\n",
    "# # list_files(Path(model_folder).parent.parent)\n",
    "# list_files('/local_disk0/repl_tmp_data')\n",
    "# # list_files(model_folder + '/package')\n",
    "\n"
   ]
  },
  {
   "cell_type": "code",
   "execution_count": 0,
   "metadata": {
    "application/vnd.databricks.v1+cell": {
     "cellMetadata": {
      "byteLimit": 2048000,
      "rowLimit": 10000
     },
     "inputWidgets": {},
     "nuid": "aa333107-87a3-4418-8f0a-b96219b8461e",
     "showTitle": false,
     "tableResultSettingsMap": {},
     "title": ""
    }
   },
   "outputs": [],
   "source": [
    "from pathlib import Path\n",
    "import os\n",
    "\n",
    "current_dir = Path(os.getcwd())\n",
    "print(f'current_dir: {current_dir}')\n",
    "\n",
    "src_package_dir = current_dir / 'package'\n",
    "print(f'src_package_dir: {src_package_dir}')\n",
    "\n",
    "print(f'model_folder: {model_folder}')\n",
    "tmp_model_folder = Path(model_folder).parent.resolve()\n",
    "print(f'tmp_model_folder: {tmp_model_folder}')\n",
    "\n",
    "model_file = 'model/model.pkl'\n",
    "print(f'model_file: {model_file}')\n",
    "\n",
    "mlops_folder = (current_dir / \"..\" / \"..\").resolve()\n",
    "print(f'mlops_folder: {mlops_folder}')\n",
    "\n",
    "pipeline_folder_path = model_folder + '/package'\n",
    "print(f'pipeline_folder_path: {pipeline_folder_path}')\n",
    "\n"
   ]
  },
  {
   "cell_type": "code",
   "execution_count": 0,
   "metadata": {
    "application/vnd.databricks.v1+cell": {
     "cellMetadata": {
      "byteLimit": 2048000,
      "rowLimit": 10000
     },
     "inputWidgets": {},
     "nuid": "d07352fc-22fb-49c3-a838-037e8100f3bc",
     "showTitle": false,
     "tableResultSettingsMap": {},
     "title": ""
    }
   },
   "outputs": [],
   "source": [
    "from simaticai import deployment\n",
    "from simaticai.telemetry.consent import allow_telemetry_cli\n",
    "import uuid\n",
    "from pathlib import Path\n",
    "\n",
    "from simaticai.payloads import PipelineVariable\n",
    "from simaticai.payloads import Connection, ConnectionTypeAndPayloadFormat as CAPT\n",
    "\n",
    "allow_telemetry_cli()\n",
    "\n",
    "component_description = 'component description'\n",
    "pipeline_description = 'pipeline description'\n",
    "python_version='3.12.3'\n",
    "\n",
    "print(f'pipeline_name: {name}')\n",
    "print(f'version: {version}')\n",
    "\n",
    "pipeline_file = pipeline_folder_path + f'/{name}_{version}.zip'\n",
    "print(f'pipeline_file: {pipeline_file}')\n",
    "\n",
    "\n",
    "package_id = str(uuid.uuid4())\n",
    "\n",
    "component = deployment.PythonComponent(\n",
    "        name=\"inference\",\n",
    "        desc=component_description,\n",
    "        version='0.0.1',\n",
    "        python_version=python_version,\n",
    "    )\n",
    "\n",
    "pipeline = deployment.Pipeline.from_components(\n",
    "    [component], name=name, desc=pipeline_description\n",
    ")\n",
    "\n",
    "connection_databus_s7 = Connection(name=\"databusS7\", cptype=CAPT.Databus_SIMATICv1)\n",
    "\n",
    "input_ph1 = PipelineVariable(\n",
    "    componentName=component.name,\n",
    "    variableName=\"ph1\",\n",
    "    tagName=\"ph1\",\n",
    "    # type=\"Double\",\n",
    "    connection=connection_databus_s7,\n",
    ")\n",
    "input_ph1.type = \"Double\"\n",
    "\n",
    "input_ph2 = PipelineVariable(\n",
    "    componentName=component.name,\n",
    "    variableName=\"ph2\",\n",
    "    tagName=\"ph2\",\n",
    "    # type=\"Double\",\n",
    "    connection=connection_databus_s7,\n",
    ")\n",
    "input_ph2.type = \"Double\"\n",
    "\n",
    "input_ph3 = PipelineVariable(\n",
    "    componentName=component.name,\n",
    "    variableName=\"ph3\",\n",
    "    tagName=\"ph3\",\n",
    "    # type=\"Double\",\n",
    "    connection=connection_databus_s7,\n",
    ")\n",
    "input_ph3.type = \"Double\"\n",
    "\n",
    "output_predicition = PipelineVariable(\n",
    "    componentName=component.name,\n",
    "    variableName=\"prediction\",\n",
    "    tagName=\"prediction\",\n",
    "    # type=\"Integer\",\n",
    "    connection=connection_databus_s7,\n",
    ")\n",
    "output_predicition.type = \"Integer\"\n",
    "\n",
    "print(f'component.inputs: {component.inputs}')\n",
    "\n",
    "\n",
    "pipeline.inputs.append(input_ph1)\n",
    "pipeline.inputs.append(input_ph2)\n",
    "pipeline.inputs.append(input_ph3)\n",
    "pipeline.outputs.append(output_predicition)\n",
    "\n",
    "component.add_input(input_ph1.variableName, input_ph1.type)\n",
    "component.add_input(input_ph2.variableName, input_ph2.type)\n",
    "component.add_input(input_ph3.variableName, input_ph3.type)\n",
    "component.add_output(output_predicition.variableName, output_predicition.type)\n",
    "\n",
    "\n",
    "\n",
    "\n",
    "print(f'src_package_dir: {src_package_dir}')\n",
    "for root, dirs, files in os.walk(src_package_dir):\n",
    "    for file in files:\n",
    "        print(os.path.join(root, file))\n",
    "\n",
    "component.add_resources(\n",
    "        src_package_dir,\n",
    "        [\"entrypoint.py\"],\n",
    ")\n",
    "component.set_entrypoint(\"entrypoint.py\")\n",
    "\n",
    "component.add_resources(tmp_model_folder, model_file)\n",
    "\n",
    "# component.add_input(\"ph1\", \"Double\", \"Measured energy consumption on phase 1\")\n",
    "# component.add_input(\"ph2\", \"Double\", \"Measured energy consumption on phase 2\")\n",
    "# component.add_input(\"ph3\", \"Double\", \"Measured energy consumption on phase 3\")\n",
    "\n",
    "# component.add_output(\n",
    "#     \"prediction\", \"Integer\", \"Predicted cluster of the datapoint (0, 1 or 2)\"\n",
    "# )\n",
    "component.add_metric(\"model_input_min\")\n",
    "component.add_metric(\"model_input_max\")\n",
    "component.add_metric(\"model_input_mean\")\n",
    "\n",
    "component.add_resources(\n",
    "    mlops_folder,\n",
    "    [\n",
    "        \"state_identifier/src/si\",\n",
    "    ],\n",
    ")\n",
    "\n",
    "requirements_path = model_folder + \"/requirements.txt\"\n",
    "component.set_requirements(requirements_path)\n",
    "\n",
    "\n",
    "pipeline.add_parameter(\"step_size\", 300, \"Integer\")\n",
    "pipeline.set_timeshifting_periodicity(250)\n",
    "\n",
    "\n",
    "# Ensure a 'package' subdirectory exists under the downloaded model folder\n",
    "package_dir = Path(pipeline_folder_path)\n",
    "package_dir.mkdir(parents=True, exist_ok=True)\n",
    "\n",
    "\n",
    "\n",
    "pipeline_package_path = pipeline.export(\n",
    "    pipeline_folder_path,\n",
    "    version=version,\n",
    "    package_id=package_id,\n",
    ")\n",
    "\n"
   ]
  },
  {
   "cell_type": "code",
   "execution_count": 0,
   "metadata": {
    "application/vnd.databricks.v1+cell": {
     "cellMetadata": {
      "byteLimit": 2048000,
      "rowLimit": 10000
     },
     "inputWidgets": {},
     "nuid": "3dd27381-8a56-44e8-8844-420d45e7e992",
     "showTitle": false,
     "tableResultSettingsMap": {},
     "title": ""
    }
   },
   "outputs": [],
   "source": [
    "print(mv)"
   ]
  },
  {
   "cell_type": "code",
   "execution_count": 0,
   "metadata": {
    "application/vnd.databricks.v1+cell": {
     "cellMetadata": {
      "byteLimit": 2048000,
      "rowLimit": 10000
     },
     "inputWidgets": {},
     "nuid": "43f6eb6a-b70b-4518-aabb-0957fbcdab1d",
     "showTitle": false,
     "tableResultSettingsMap": {},
     "title": ""
    }
   },
   "outputs": [],
   "source": [
    "import mlflow\n",
    "from mlflow.pyfunc import PythonModel\n",
    "\n",
    "print(f'pipeline_package_path: {pipeline_package_path}')\n",
    "\n",
    "class ZipBundle(PythonModel):\n",
    "    def load_context(self, context):\n",
    "        # The ZIP is available at context.artifacts[\"bundle\"]\n",
    "        self.bundle_path = context.artifacts[\"bundle\"]\n",
    "    def predict(self, context, model_input):\n",
    "        # No-op: return metadata or echo input—your choice\n",
    "        return {\"bundle_path\": self.bundle_path}\n",
    "\n",
    "mlflow.set_registry_uri(\"databricks\")\n",
    "registered_name = f'{name}-edge'   # <catalog>.<schema>.<model>\n",
    "\n",
    "with mlflow.start_run():\n",
    "    mlflow.pyfunc.log_model(\n",
    "        artifact_path=\"model\",\n",
    "        python_model=ZipBundle(),\n",
    "        artifacts={\"bundle\": str(pipeline_package_path)},\n",
    "        registered_model_name=registered_name,\n",
    "        pip_requirements=requirements_path,\n",
    "        signature=signature\n",
    "    )"
   ]
  }
 ],
 "metadata": {
  "application/vnd.databricks.v1+notebook": {
   "computePreferences": null,
   "dashboards": [],
   "environmentMetadata": {
    "base_environment": "",
    "environment_version": "3"
   },
   "inputWidgetPreferences": null,
   "language": "python",
   "notebookMetadata": {
    "pythonIndentUnit": 4
   },
   "notebookName": "03-state_identifier-packaging",
   "widgets": {}
  },
  "language_info": {
   "name": "python"
  }
 },
 "nbformat": 4,
 "nbformat_minor": 0
}
