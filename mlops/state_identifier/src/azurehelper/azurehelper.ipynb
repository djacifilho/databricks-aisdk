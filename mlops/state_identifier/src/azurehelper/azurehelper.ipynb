{
 "cells": [
  {
   "cell_type": "code",
   "execution_count": 0,
   "metadata": {
    "application/vnd.databricks.v1+cell": {
     "cellMetadata": {
      "byteLimit": 2048000,
      "rowLimit": 10000
     },
     "inputWidgets": {},
     "nuid": "8b7dcda8-f2e4-4109-a62a-2542d4e855b0",
     "showTitle": false,
     "tableResultSettingsMap": {},
     "title": ""
    }
   },
   "outputs": [],
   "source": [
    "from azure.storage.blob import BlobServiceClient, generate_blob_sas, BlobSasPermissions\n",
    "from azure.identity import ClientSecretCredential\n",
    "from datetime import timedelta, timezone, datetime as dt\n",
    "\n",
    "class AzureHelper:\n",
    "\n",
    "    def get_secret(self, key):\n",
    "        return dbutils.secrets.get(scope=\"kv-databricks-learn\", key=key)\n",
    "    \n",
    "    def __init__(self):\n",
    "        self.storage_account = self.get_secret(\"storageaccount\")\n",
    "        self.azure_blob_container = self.get_secret(\"azureblobcontainer\")\n",
    "        self.application_id = self.get_secret(\"applicationid\")\n",
    "        self.directory_id = self.get_secret(\"directoryid\")\n",
    "        self.service_credential = self.get_secret(\"servicecredential\")\n",
    "\n",
    "        self.models_folder = \"models\"\n",
    "        self.account_url = f\"https://{self.storage_account}.blob.core.windows.net\"\n",
    "\n",
    "        self.iot_event_hub_con_str = self.get_secret(\"ioteventhubconstr\")\n",
    "        self.iot_hub_con_str = self.get_secret(\"iothubconstr\")\n",
    "\n",
    "\n",
    "        # --- AUTH (already configured in your message) ---\n",
    "\n",
    "        spark.conf.set(f\"fs.azure.account.auth.type.{self.storage_account}.dfs.core.windows.net\", \"OAuth\")\n",
    "        spark.conf.set(f\"fs.azure.account.oauth.provider.type.{self.storage_account}.dfs.core.windows.net\", \"org.apache.hadoop.fs.azurebfs.oauth2.ClientCredsTokenProvider\")\n",
    "        spark.conf.set(f\"fs.azure.account.oauth2.client.id.{self.storage_account}.dfs.core.windows.net\", self.application_id)\n",
    "        spark.conf.set(f\"fs.azure.account.oauth2.client.secret.{self.storage_account}.dfs.core.windows.net\", self.service_credential)\n",
    "        spark.conf.set(f\"fs.azure.account.oauth2.client.endpoint.{self.storage_account}.dfs.core.windows.net\", f\"https://login.microsoftonline.com/{self.directory_id}/oauth2/token\")\n",
    "\n",
    "    def get_target_blob_file(self, blob_name):\n",
    "        print('get_target_blob_file')\n",
    "        target_blob_file = f\"abfss://{self.azure_blob_container}@{self.storage_account}.dfs.core.windows.net/{blob_name}\"\n",
    "        return target_blob_file\n",
    "\n",
    "    def get_blob_service_client(self):\n",
    "        print('get_blob_service_client')\n",
    "\n",
    "        print('getting credential...')\n",
    "        credential = ClientSecretCredential(\n",
    "            tenant_id=self.directory_id,\n",
    "            client_id=self.application_id,\n",
    "            client_secret=self.service_credential\n",
    "        )\n",
    "\n",
    "        print('creating blob service client...')\n",
    "        blob_service_client = BlobServiceClient(\n",
    "            account_url=self.account_url,\n",
    "            credential=credential\n",
    "        )\n",
    "\n",
    "        return blob_service_client\n",
    "    \n",
    "    def get_blob_name(self, model_name, model_version):\n",
    "        print('get_blob_name')\n",
    "        blob_name = f\"{self.models_folder}/{model_name}_{model_version}.zip\"\n",
    "        return blob_name\n",
    "    \n",
    "    def generate_sas_token(self, blob_name: str, hours: int = 1):\n",
    "        print('generate_sas_token')\n",
    "\n",
    "        blob_service_client = self.get_blob_service_client()\n",
    "\n",
    "        # get a user delegation key\n",
    "        udk = blob_service_client.get_user_delegation_key(\n",
    "            key_start_time=dt.now(timezone.utc),\n",
    "            key_expiry_time=dt.now(timezone.utc) + timedelta(hours=1)\n",
    "        )\n",
    "\n",
    "        # generate SAS\n",
    "        print('generating sas token...')\n",
    "        sas_token = generate_blob_sas(\n",
    "            account_name=self.storage_account,\n",
    "            container_name=self.azure_blob_container,\n",
    "            blob_name=blob_name,\n",
    "            user_delegation_key=udk,\n",
    "            permission=BlobSasPermissions(read=True, list=True),\n",
    "            expiry=dt.now(timezone.utc) + timedelta(hours=1)\n",
    "        )\n",
    "\n",
    "        sas_url = f\"{self.account_url}/{self.azure_blob_container}/{blob_name}?{sas_token}\"\n",
    "        print(\"✅ SAS URL:\", sas_url)\n",
    "\n",
    "        return sas_url\n",
    "    \n",
    "\n",
    "# model_name = \"aisdk_model_state_identifier-edge\"\n",
    "# model_version = \"1\"\n",
    "\n",
    "# azure_helper = AzureHelper()\n",
    "\n",
    "# blob_name = azure_helper.get_blob_name(model_name, model_version)\n",
    "\n",
    "# azure_helper.generate_sas_token(blob_name)"
   ]
  },
  {
   "cell_type": "code",
   "execution_count": 0,
   "metadata": {
    "application/vnd.databricks.v1+cell": {
     "cellMetadata": {
      "byteLimit": 2048000,
      "rowLimit": 10000
     },
     "inputWidgets": {},
     "nuid": "ae40278d-c2e8-466a-8cfe-3e72f34c7dcf",
     "showTitle": false,
     "tableResultSettingsMap": {},
     "title": ""
    }
   },
   "outputs": [],
   "source": [
    "import sys\n",
    "\n",
    "print(sys.path)"
   ]
  }
 ],
 "metadata": {
  "application/vnd.databricks.v1+notebook": {
   "computePreferences": null,
   "dashboards": [],
   "environmentMetadata": {
    "base_environment": "",
    "environment_version": "4"
   },
   "inputWidgetPreferences": null,
   "language": "python",
   "notebookMetadata": {
    "pythonIndentUnit": 4
   },
   "notebookName": "azurehelper",
   "widgets": {}
  },
  "language_info": {
   "name": "python"
  }
 },
 "nbformat": 4,
 "nbformat_minor": 0
}
