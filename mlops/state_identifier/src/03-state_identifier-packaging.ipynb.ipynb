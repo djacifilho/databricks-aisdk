{
 "cells": [
  {
   "cell_type": "code",
   "execution_count": 0,
   "metadata": {
    "application/vnd.databricks.v1+cell": {
     "cellMetadata": {
      "byteLimit": 2048000,
      "rowLimit": 10000
     },
     "inputWidgets": {},
     "nuid": "b0c07db0-e67d-4dbf-ae36-eb9ec00557a4",
     "showTitle": false,
     "tableResultSettingsMap": {},
     "title": ""
    }
   },
   "outputs": [],
   "source": [
    "import shutil\n",
    "\n",
    "shutil.rmtree('/local_disk0/repl_tmp_data')"
   ]
  },
  {
   "cell_type": "code",
   "execution_count": 0,
   "metadata": {
    "application/vnd.databricks.v1+cell": {
     "cellMetadata": {
      "byteLimit": 2048000,
      "rowLimit": 10000
     },
     "inputWidgets": {},
     "nuid": "7340766a-eec8-424d-8ec1-bfc28ff79677",
     "showTitle": false,
     "tableResultSettingsMap": {},
     "title": ""
    }
   },
   "outputs": [],
   "source": [
    "import mlflow\n",
    "from mlflow.tracking import MlflowClient\n",
    "\n",
    "client = MlflowClient(registry_uri=\"databricks\")\n",
    "\n",
    "name = 'aisdk_model_state_identifier'\n",
    "\n",
    "versions = client.search_model_versions(f\"name='{name}'\")\n",
    "latest_version = max(versions, key=lambda v: int(v.version))\n",
    "assert latest_version, f\"No versions found for model {name}\"\n",
    "mv = latest_version\n",
    "\n",
    "model_folder = client.download_artifacts(run_id=mv.run_id, path=\"model\")  # no dst_path\n",
    "print(\"Downloaded to:\", model_folder)\n",
    "\n",
    "print(mv)\n",
    "version = str(mv.version)\n",
    "print(f'version: {version}')"
   ]
  },
  {
   "cell_type": "code",
   "execution_count": 0,
   "metadata": {
    "application/vnd.databricks.v1+cell": {
     "cellMetadata": {
      "byteLimit": 2048000,
      "rowLimit": 10000
     },
     "inputWidgets": {},
     "nuid": "2a943c88-fc57-42ce-a1b2-cf090402cbc7",
     "showTitle": false,
     "tableResultSettingsMap": {},
     "title": ""
    }
   },
   "outputs": [],
   "source": [
    "import os\n",
    "from pathlib import Path\n",
    "\n",
    "# print(f'model_folder: {model_folder}')\n",
    "\n",
    "def list_files(directory):\n",
    "    for root, dirs, files in os.walk(directory):\n",
    "        for name in files:\n",
    "            print(os.path.join(root, name))\n",
    "\n",
    "# list_files(Path(model_folder).parent.parent)\n",
    "list_files('/local_disk0/repl_tmp_data')\n",
    "# list_files(model_folder + '/package')\n",
    "\n"
   ]
  },
  {
   "cell_type": "code",
   "execution_count": 0,
   "metadata": {
    "application/vnd.databricks.v1+cell": {
     "cellMetadata": {
      "byteLimit": 2048000,
      "rowLimit": 10000
     },
     "inputWidgets": {},
     "nuid": "aa333107-87a3-4418-8f0a-b96219b8461e",
     "showTitle": false,
     "tableResultSettingsMap": {},
     "title": ""
    }
   },
   "outputs": [],
   "source": [
    "from pathlib import Path\n",
    "import os\n",
    "\n",
    "current_dir = Path(os.getcwd())\n",
    "print(f'current_dir: {current_dir}')\n",
    "\n",
    "package_dir = current_dir / 'package'\n",
    "print(f'package_dir: {package_dir}')\n",
    "\n",
    "print(f'model_folder: {model_folder}')\n",
    "tmp_model_folder = Path(model_folder).parent.resolve()\n",
    "print(f'tmp_model_folder: {tmp_model_folder}')\n",
    "\n",
    "model_file = 'model/model.pkl'\n",
    "print(f'model_file: {model_file}')\n",
    "\n",
    "mlops_folder = (current_dir / \"..\" / \"..\").resolve()\n",
    "print(f'mlops_folder: {mlops_folder}')\n",
    "\n",
    "pipeline_folder_path = model_folder + '/package'\n",
    "print(f'pipeline_folder_path: {pipeline_folder_path}')\n",
    "\n"
   ]
  },
  {
   "cell_type": "code",
   "execution_count": 0,
   "metadata": {
    "application/vnd.databricks.v1+cell": {
     "cellMetadata": {
      "byteLimit": 2048000,
      "rowLimit": 10000
     },
     "inputWidgets": {},
     "nuid": "d07352fc-22fb-49c3-a838-037e8100f3bc",
     "showTitle": false,
     "tableResultSettingsMap": {},
     "title": ""
    }
   },
   "outputs": [],
   "source": [
    "from simaticai import deployment\n",
    "import uuid\n",
    "\n",
    "component_description = 'component description'\n",
    "pipeline_description = 'pipeline description'\n",
    "python_version='3.11.17'\n",
    "# python_version='3.12.3'\n",
    "\n",
    "print(f'pipeline_name: {name}')\n",
    "print(f'version: {version}')\n",
    "\n",
    "pipeline_file = pipeline_folder_path + f'/{name}_{version}.zip'\n",
    "print(f'pipeline_file: {pipeline_file}')\n",
    "\n",
    "\n",
    "package_id = str(uuid.uuid4())\n",
    "\n",
    "component = deployment.PythonComponent(\n",
    "        name=\"inference\",\n",
    "        desc=component_description,\n",
    "        version=version,\n",
    "        python_version=python_version,\n",
    "    )\n",
    "\n",
    "print(f'package_dir: {package_dir}')\n",
    "component.add_resources(\n",
    "        package_dir,\n",
    "        [\"entrypoint.py\"],\n",
    ")\n",
    "component.set_entrypoint(\"entrypoint.py\")\n",
    "\n",
    "component.add_resources(tmp_model_folder, model_file)\n",
    "\n",
    "component.add_input(\"ph1\", \"Double\", \"Measured energy consumption on phase 1\")\n",
    "component.add_input(\"ph2\", \"Double\", \"Measured energy consumption on phase 2\")\n",
    "component.add_input(\"ph3\", \"Double\", \"Measured energy consumption on phase 3\")\n",
    "\n",
    "component.add_output(\n",
    "    \"prediction\", \"Integer\", \"Predicted cluster of the datapoint (0, 1 or 2)\"\n",
    ")\n",
    "component.add_output(\"inertia\", \"Double\", \"Inertia metric on the model\")\n",
    "component.add_metric(\"model_input_min\")\n",
    "component.add_metric(\"model_input_max\")\n",
    "component.add_metric(\"model_input_mean\")\n",
    "\n",
    "component.add_resources(\n",
    "    mlops_folder,\n",
    "    [\n",
    "        \"state_identifier/src/si\",\n",
    "    ],\n",
    ")\n",
    "\n",
    "requirements_path = model_folder + \"/requirements.txt\"\n",
    "component.set_requirements(requirements_path)\n",
    "\n",
    "pipeline = deployment.Pipeline.from_components(\n",
    "    [component], name=name, desc=pipeline_description\n",
    ")\n",
    "\n",
    "pipeline.add_parameter(\"step_size\", 300, \"Integer\")\n",
    "pipeline.set_timeshifting_periodicity(250)\n",
    "\n",
    "from pathlib import Path\n",
    "\n",
    "# Ensure a 'package' subdirectory exists under the downloaded model folder\n",
    "package_dir = Path(pipeline_folder_path)\n",
    "package_dir.mkdir(parents=True, exist_ok=True)\n",
    "\n",
    "pipeline_package_path = pipeline.export(\n",
    "    pipeline_folder_path,\n",
    "    version=version,\n",
    "    package_id=package_id,\n",
    ")\n",
    "\n"
   ]
  },
  {
   "cell_type": "code",
   "execution_count": 0,
   "metadata": {
    "application/vnd.databricks.v1+cell": {
     "cellMetadata": {
      "byteLimit": 2048000,
      "rowLimit": 10000
     },
     "inputWidgets": {},
     "nuid": "43f6eb6a-b70b-4518-aabb-0957fbcdab1d",
     "showTitle": false,
     "tableResultSettingsMap": {},
     "title": ""
    }
   },
   "outputs": [],
   "source": [
    "import mlflow\n",
    "from mlflow.pyfunc import PythonModel\n",
    "\n",
    "print(f'pipeline_package_path: {pipeline_package_path}')\n",
    "\n",
    "class ZipBundle(PythonModel):\n",
    "    def load_context(self, context):\n",
    "        # The ZIP is available at context.artifacts[\"bundle\"]\n",
    "        self.bundle_path = context.artifacts[\"bundle\"]\n",
    "    def predict(self, context, model_input):\n",
    "        # No-op: return metadata or echo input—your choice\n",
    "        return {\"bundle_path\": self.bundle_path}\n",
    "\n",
    "mlflow.set_registry_uri(\"databricks\")\n",
    "registered_name = f'{name}-edge'   # <catalog>.<schema>.<model>\n",
    "\n",
    "with mlflow.start_run():\n",
    "    mlflow.pyfunc.log_model(\n",
    "        artifact_path=\"model\",\n",
    "        python_model=ZipBundle(),\n",
    "        artifacts={\"bundle\": str(pipeline_package_path)},             # <-- ships the full ZIP\n",
    "        registered_model_name=registered_name,\n",
    "        pip_requirements=requirements_path,          # keep env minimal; pyfunc needs mlflow\n",
    "    )"
   ]
  }
 ],
 "metadata": {
  "application/vnd.databricks.v1+notebook": {
   "computePreferences": null,
   "dashboards": [],
   "environmentMetadata": {
    "base_environment": "",
    "environment_version": "3"
   },
   "inputWidgetPreferences": null,
   "language": "python",
   "notebookMetadata": {
    "pythonIndentUnit": 4
   },
   "notebookName": "03-state_identifier-packaging.ipynb",
   "widgets": {}
  },
  "language_info": {
   "name": "python"
  }
 },
 "nbformat": 4,
 "nbformat_minor": 0
}
