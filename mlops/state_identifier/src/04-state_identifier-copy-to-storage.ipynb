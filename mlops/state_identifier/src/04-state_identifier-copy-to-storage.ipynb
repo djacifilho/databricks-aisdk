{
 "cells": [
  {
   "cell_type": "code",
   "execution_count": 0,
   "metadata": {
    "application/vnd.databricks.v1+cell": {
     "cellMetadata": {
      "byteLimit": 2048000,
      "rowLimit": 10000
     },
     "inputWidgets": {},
     "nuid": "272a2cc5-829f-4bae-a253-f17b71fc9fd1",
     "showTitle": false,
     "tableResultSettingsMap": {},
     "title": ""
    }
   },
   "outputs": [],
   "source": [
    "%run ./azurehelper/azurehelper"
   ]
  },
  {
   "cell_type": "code",
   "execution_count": 0,
   "metadata": {
    "application/vnd.databricks.v1+cell": {
     "cellMetadata": {
      "byteLimit": 2048000,
      "rowLimit": 10000
     },
     "inputWidgets": {},
     "nuid": "82435365-677f-4062-b209-1bbc8d90a239",
     "showTitle": false,
     "tableResultSettingsMap": {},
     "title": ""
    }
   },
   "outputs": [],
   "source": [
    "dbutils.library.restartPython()\n",
    "\n",
    "# user = dbutils.notebook.entry_point.getDbutils().notebook().getContext().userName().get()\n",
    "# print(user)"
   ]
  },
  {
   "cell_type": "code",
   "execution_count": 0,
   "metadata": {
    "application/vnd.databricks.v1+cell": {
     "cellMetadata": {
      "byteLimit": 2048000,
      "rowLimit": 10000
     },
     "inputWidgets": {},
     "nuid": "7b5c459e-895a-4b93-9392-bf0c65bf03c1",
     "showTitle": false,
     "tableResultSettingsMap": {},
     "title": ""
    }
   },
   "outputs": [],
   "source": [
    "import shutil\n",
    "import os\n",
    "import glob\n",
    "\n",
    "from mlflow.tracking import MlflowClient\n",
    "\n",
    "\n",
    "def export_model_to_storage(model_name: str, model_version: str, azure_helper: AzureHelper):\n",
    "\n",
    "    print('Getting storage credentials ...')\n",
    "\n",
    "    blob_name = azure_helper.get_blob_name(model_name, model_version)\n",
    "\n",
    "    client = MlflowClient(registry_uri=\"databricks\")\n",
    "\n",
    "    # --- DOWNLOAD MODEL FROM REGISTRY ---\n",
    "    model_uri = f\"models:/{model_name}/{model_version}\"\n",
    "    local_dir = 'model'\n",
    "    os.makedirs(local_dir, exist_ok=True)\n",
    "    mv = client.get_model_version(name=model_name, version=model_version)\n",
    "\n",
    "    print(f\"Downloading model from {model_uri}...\")\n",
    "    local_path = client.download_artifacts(run_id=mv.run_id, path=local_dir)\n",
    "\n",
    "    artifact = f'{local_path}/artifacts'\n",
    "    zip_path = f'{artifact}/{model_name}_{model_version}.zip'\n",
    "\n",
    "    # print(\"Listing files in\", artifact)\n",
    "    # for file in glob.glob(f\"{artifact}/**\", recursive=True):\n",
    "    #     print(file)\n",
    "\n",
    "    print('zip_path', zip_path)\n",
    "\n",
    "    print('Uploading to Azure Storage')\n",
    "\n",
    "    target_blob_file = azure_helper.get_target_blob_file(blob_name)\n",
    "    print(f\"Uploading to {target_blob_file}...\")\n",
    "\n",
    "    dbutils.fs.cp(f\"file:{zip_path}\", target_blob_file)\n",
    "\n",
    "    print('UPLOADED')\n",
    "\n",
    "    return blob_name\n",
    "\n",
    "azure_helper = AzureHelper()\n",
    "\n",
    "model_name = \"aisdk_model_state_identifier-edge\"\n",
    "model_version = 1\n",
    "\n",
    "blob_name = export_model_to_storage(model_name, model_version, azure_helper)\n",
    "    \n"
   ]
  },
  {
   "cell_type": "code",
   "execution_count": 0,
   "metadata": {
    "application/vnd.databricks.v1+cell": {
     "cellMetadata": {
      "byteLimit": 2048000,
      "rowLimit": 10000
     },
     "inputWidgets": {},
     "nuid": "7c3893a5-b3bb-45f2-8846-435ede968a50",
     "showTitle": false,
     "tableResultSettingsMap": {},
     "title": ""
    }
   },
   "outputs": [],
   "source": [
    "\n",
    "\n",
    "azure_helper.generate_sas_token(blob_name)"
   ]
  }
 ],
 "metadata": {
  "application/vnd.databricks.v1+notebook": {
   "computePreferences": null,
   "dashboards": [],
   "environmentMetadata": {
    "base_environment": "",
    "environment_version": "3"
   },
   "inputWidgetPreferences": null,
   "language": "python",
   "notebookMetadata": {
    "pythonIndentUnit": 4
   },
   "notebookName": "04-state_identifier-copy-to-storage",
   "widgets": {}
  },
  "language_info": {
   "name": "python"
  }
 },
 "nbformat": 4,
 "nbformat_minor": 0
}
