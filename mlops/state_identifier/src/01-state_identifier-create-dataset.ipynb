{
 "cells": [
  {
   "cell_type": "code",
   "execution_count": 0,
   "metadata": {
    "application/vnd.databricks.v1+cell": {
     "cellMetadata": {
      "byteLimit": 2048000,
      "rowLimit": 10000
     },
     "inputWidgets": {},
     "nuid": "4bf59da3-e9ee-469e-9e04-65a0bf65b283",
     "showTitle": false,
     "tableResultSettingsMap": {},
     "title": ""
    }
   },
   "outputs": [],
   "source": [
    "import requests\n",
    "\n",
    "dataset_path = 'https://github.com/siemens/simatic-ai-launcher/raw/master/datasets/state-identifier/si-sample.parquet'\n",
    "r = requests.get(dataset_path)\n",
    "\n",
    "with open('/tmp/file.parquet', 'wb') as f:\n",
    "    f.write(r.content)\n",
    "\n",
    "df = spark.read.parquet('file:/tmp/file.parquet')\n",
    "df.show()\n"
   ]
  },
  {
   "cell_type": "code",
   "execution_count": 0,
   "metadata": {
    "application/vnd.databricks.v1+cell": {
     "cellMetadata": {
      "byteLimit": 2048000,
      "rowLimit": 10000
     },
     "inputWidgets": {},
     "nuid": "ac23267a-53e8-4021-9f14-17680b519c65",
     "showTitle": false,
     "tableResultSettingsMap": {},
     "title": ""
    }
   },
   "outputs": [],
   "source": [
    "percentage_of_data = 0.1\n",
    "\n",
    "data_rows = df.count()\n",
    "percentage_rows = int(data_rows * percentage_of_data)\n",
    "data_subset = df.limit(percentage_rows)\n",
    "\n",
    "\n",
    "schema = \"aisdk\"\n",
    "table_name = \"state_identifier\"\n",
    "\n",
    "# Create DB and use it\n",
    "spark.sql(f\"CREATE DATABASE IF NOT EXISTS {schema}\")\n",
    "spark.sql(f\"USE {schema}\")\n",
    "\n",
    "# Save as table\n",
    "data_subset.write.mode(\"overwrite\").saveAsTable(table_name)\n",
    "\n",
    "\n"
   ]
  }
 ],
 "metadata": {
  "application/vnd.databricks.v1+notebook": {
   "computePreferences": null,
   "dashboards": [],
   "environmentMetadata": {
    "base_environment": "",
    "environment_version": "3"
   },
   "inputWidgetPreferences": null,
   "language": "python",
   "notebookMetadata": {
    "pythonIndentUnit": 4
   },
   "notebookName": "01-state_identifier-create-dataset",
   "widgets": {}
  },
  "language_info": {
   "name": "python"
  }
 },
 "nbformat": 4,
 "nbformat_minor": 0
}
